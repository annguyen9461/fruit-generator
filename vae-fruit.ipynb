{
 "cells": [
  {
   "cell_type": "code",
   "execution_count": 16,
   "id": "1f494377",
   "metadata": {},
   "outputs": [],
   "source": [
    "import os\n",
    "import torch\n",
    "import torch.nn as nn\n",
    "import torch.nn.functional as F\n",
    "import torchvision\n",
    "from torchvision import transforms, datasets\n",
    "from torchvision.utils import save_image"
   ]
  },
  {
   "cell_type": "code",
   "execution_count": 17,
   "id": "88ce49d4",
   "metadata": {},
   "outputs": [
    {
     "name": "stdout",
     "output_type": "stream",
     "text": [
      "Path to dataset files: /home/cqz7624/.cache/kagglehub/datasets/moltean/fruits/versions/41\n",
      "Train folder: /home/cqz7624/.cache/kagglehub/datasets/moltean/fruits/versions/41/fruits-360_100x100/fruits-360/Training\n",
      "Test folder: /home/cqz7624/.cache/kagglehub/datasets/moltean/fruits/versions/41/fruits-360_100x100/fruits-360/Test\n"
     ]
    }
   ],
   "source": [
    "import kagglehub\n",
    "\n",
    "# Download latest version\n",
    "path = kagglehub.dataset_download(\"moltean/fruits\")\n",
    "\n",
    "print(\"Path to dataset files:\", path)\n",
    "\n",
    "train_path = os.path.join(path, \"fruits-360_100x100\", \"fruits-360\", \"Training\")\n",
    "test_path = os.path.join(path, \"fruits-360_100x100\", \"fruits-360\", \"Test\")\n",
    "\n",
    "print(\"Train folder:\", train_path)\n",
    "print(\"Test folder:\", test_path)"
   ]
  },
  {
   "cell_type": "code",
   "execution_count": 18,
   "id": "6c62e327",
   "metadata": {},
   "outputs": [],
   "source": [
    "# --- CONFIG ---\n",
    "device = torch.device('cuda' if torch.cuda.is_available() else 'cpu')\n",
    "\n",
    "sample_dir = 'samples'\n",
    "checkpoint_dir = 'checkpoints'\n",
    "os.makedirs(sample_dir, exist_ok=True)\n",
    "os.makedirs(checkpoint_dir, exist_ok=True)\n",
    "checkpoint_path = os.path.join(checkpoint_dir, 'vae_checkpoint.pth')"
   ]
  },
  {
   "cell_type": "code",
   "execution_count": 19,
   "id": "9c36a667",
   "metadata": {},
   "outputs": [],
   "source": [
    "# --- HYPERPARAMETERS ---\n",
    "IMAGE_SIZE = 64\n",
    "LATENT_DIM = 40\n",
    "NUM_EPOCHS = 10\n",
    "BATCH_SIZE = 64\n",
    "LR_RATE = 1e-3\n",
    "BETA = 1"
   ]
  },
  {
   "cell_type": "code",
   "execution_count": 20,
   "id": "e81660ef",
   "metadata": {},
   "outputs": [],
   "source": [
    "from torchvision import datasets, transforms\n",
    "\n",
    "# --- DATASET PREP ---\n",
    "transform = transforms.Compose([\n",
    "    transforms.Resize((64, 64)),\n",
    "    transforms.ToTensor()\n",
    "])\n",
    "\n",
    "train_dataset = datasets.ImageFolder(root=train_path, transform=transform)\n",
    "data_loader = torch.utils.data.DataLoader(train_dataset, batch_size=BATCH_SIZE, shuffle=True)"
   ]
  },
  {
   "cell_type": "code",
   "execution_count": 21,
   "id": "db67f862",
   "metadata": {},
   "outputs": [
    {
     "name": "stdout",
     "output_type": "stream",
     "text": [
      "Transformed image shape: torch.Size([3, 64, 64])\n",
      "Classes: ['Apple 10', 'Apple 11', 'Apple 12', 'Apple 13', 'Apple 14', 'Apple 17', 'Apple 18', 'Apple 19', 'Apple 5', 'Apple 6', 'Apple 7', 'Apple 8', 'Apple 9', 'Apple Braeburn 1', 'Apple Core 1', 'Apple Crimson Snow 1', 'Apple Golden 1', 'Apple Golden 2', 'Apple Golden 3', 'Apple Granny Smith 1', 'Apple Pink Lady 1', 'Apple Red 1', 'Apple Red 2', 'Apple Red 3', 'Apple Red Delicious 1', 'Apple Red Yellow 1', 'Apple Red Yellow 2', 'Apple Rotten 1', 'Apple hit 1', 'Apple worm 1', 'Apricot 1', 'Avocado 1', 'Avocado Black 1', 'Avocado Green 1', 'Avocado ripe 1', 'Banana 1', 'Banana 3', 'Banana Lady Finger 1', 'Banana Red 1', 'Beans 1', 'Beetroot 1', 'Blackberrie 1', 'Blackberrie 2', 'Blackberrie half rippen 1', 'Blackberrie not rippen 1', 'Blueberry 1', 'Cabbage red 1', 'Cabbage white 1', 'Cactus fruit 1', 'Cactus fruit green 1', 'Cactus fruit red 1', 'Caju seed 1', 'Cantaloupe 1', 'Cantaloupe 2', 'Carambula 1', 'Carrot 1', 'Cauliflower 1', 'Cherimoya 1', 'Cherry 1', 'Cherry 2', 'Cherry 3', 'Cherry 4', 'Cherry 5', 'Cherry Rainier 1', 'Cherry Rainier 2', 'Cherry Rainier 3', 'Cherry Sour 1', 'Cherry Wax Black 1', 'Cherry Wax Red 1', 'Cherry Wax Red 2', 'Cherry Wax Red 3', 'Cherry Wax Yellow 1', 'Cherry Wax not ripen 1', 'Cherry Wax not ripen 2', 'Chestnut 1', 'Clementine 1', 'Cocos 1', 'Corn 1', 'Corn Husk 1', 'Cucumber 1', 'Cucumber 10', 'Cucumber 3', 'Cucumber 9', 'Cucumber Ripe 1', 'Cucumber Ripe 2', 'Dates 1', 'Eggplant 1', 'Eggplant long 1', 'Fig 1', 'Ginger Root 1', 'Gooseberry 1', 'Granadilla 1', 'Grape Blue 1', 'Grape Pink 1', 'Grape White 1', 'Grape White 2', 'Grape White 3', 'Grape White 4', 'Grapefruit Pink 1', 'Grapefruit White 1', 'Guava 1', 'Hazelnut 1', 'Huckleberry 1', 'Kaki 1', 'Kiwi 1', 'Kohlrabi 1', 'Kumquats 1', 'Lemon 1', 'Lemon Meyer 1', 'Limes 1', 'Lychee 1', 'Mandarine 1', 'Mango 1', 'Mango Red 1', 'Mangostan 1', 'Maracuja 1', 'Melon Piel de Sapo 1', 'Mulberry 1', 'Nectarine 1', 'Nectarine Flat 1', 'Nut Forest 1', 'Nut Pecan 1', 'Onion Red 1', 'Onion Red Peeled 1', 'Onion White 1', 'Orange 1', 'Papaya 1', 'Passion Fruit 1', 'Peach 1', 'Peach 2', 'Peach Flat 1', 'Pear 1', 'Pear 2', 'Pear 3', 'Pear Abate 1', 'Pear Forelle 1', 'Pear Kaiser 1', 'Pear Monster 1', 'Pear Red 1', 'Pear Stone 1', 'Pear Williams 1', 'Pepino 1', 'Pepper Green 1', 'Pepper Orange 1', 'Pepper Red 1', 'Pepper Yellow 1', 'Physalis 1', 'Physalis with Husk 1', 'Pineapple 1', 'Pineapple Mini 1', 'Pistachio 1', 'Pitahaya Red 1', 'Plum 1', 'Plum 2', 'Plum 3', 'Pomegranate 1', 'Pomelo Sweetie 1', 'Potato Red 1', 'Potato Red Washed 1', 'Potato Sweet 1', 'Potato White 1', 'Quince 1', 'Quince 2', 'Quince 3', 'Quince 4', 'Rambutan 1', 'Raspberry 1', 'Redcurrant 1', 'Salak 1', 'Strawberry 1', 'Strawberry Wedge 1', 'Tamarillo 1', 'Tangelo 1', 'Tomato 1', 'Tomato 10', 'Tomato 2', 'Tomato 3', 'Tomato 4', 'Tomato 5', 'Tomato 7', 'Tomato 8', 'Tomato 9', 'Tomato Cherry Maroon 1', 'Tomato Cherry Orange 1', 'Tomato Cherry Red 1', 'Tomato Cherry Red 2', 'Tomato Cherry Yellow 1', 'Tomato Heart 1', 'Tomato Maroon 1', 'Tomato Maroon 2', 'Tomato Yellow 1', 'Tomato not Ripen 1', 'Walnut 1', 'Watermelon 1', 'Zucchini 1', 'Zucchini dark 1']\n",
      "Number of classes: 196\n",
      "Number of images in training set: 100912\n"
     ]
    }
   ],
   "source": [
    "# --- DATASET INFO ---\n",
    "\n",
    "sample, label = train_dataset[0]\n",
    "print(f\"Transformed image shape: {sample.shape}\")\n",
    "print(f\"Classes: {train_dataset.classes}\")\n",
    "print(f\"Number of classes: {len(train_dataset.classes)}\")\n",
    "print(f\"Number of images in training set: {len(train_dataset)}\")"
   ]
  },
  {
   "cell_type": "code",
   "execution_count": 22,
   "id": "693e7bce",
   "metadata": {},
   "outputs": [],
   "source": [
    "from torchsummary import summary\n",
    "\n",
    "# --- VAE MODEL ---\n",
    "# Image size: 64 × 64 × 3 (RGB image)\n",
    "#\n",
    "# Encoder: (shrink spatial size, grow channels)\n",
    "#   - Input: [3, 64, 64] (image with 3 channels)\n",
    "#   - Conv2D: [3, 64, 64] → [32, 32, 32]\n",
    "#   - Conv2D: [32, 32, 32] → [64, 16, 16]\n",
    "#   - Conv2D: [64, 16, 16] → [128, 8, 8]\n",
    "#   - Conv2D: [128, 8, 8] → [256, 4, 4]\n",
    "#   - Conv2D: [256, 4, 4] → [512, 2, 2]\n",
    "#   - Flatten: [512, 2, 2] → [2048]\n",
    "#   - Two heads:\n",
    "#       * Linear: [2048] → [20] (mean of latent z)\n",
    "#       * Linear: [2048] → [20] (log-variance of latent z)\n",
    "#\n",
    "# Decoder:\n",
    "#   - Input: [20] (sampled latent z)\n",
    "#   - Linear: [20] → [2048]\n",
    "#   - Reshape: [2048] → [512, 2, 2]\n",
    "#   - ConvTranspose2D: [512, 2, 2] → [256, 4, 4]\n",
    "#   - ConvTranspose2D: [256, 4, 4] → [128, 8, 8]\n",
    "#   - ConvTranspose2D: [128, 8, 8] → [64, 16, 16]\n",
    "#   - ConvTranspose2D: [64, 16, 16] → [32, 32, 32]\n",
    "#   - ConvTranspose2D: [32, 32, 32] → [3, 64, 64]\n",
    "\n",
    "class VAE(nn.Module):\n",
    "    def __init__(self, latent_dim=LATENT_DIM):\n",
    "        super(VAE, self).__init__()\n",
    "\n",
    "        # --- Encoder ---\n",
    "        self.encoder = nn.Sequential(\n",
    "            nn.Conv2d(3, 32, kernel_size=3, stride=2, padding=1),  \n",
    "            nn.BatchNorm2d(32),\n",
    "            nn.ReLU(),\n",
    "\n",
    "            nn.Conv2d(32, 64, kernel_size=3, stride=2, padding=1), \n",
    "            nn.BatchNorm2d(64),\n",
    "            nn.ReLU(),\n",
    "\n",
    "            nn.Conv2d(64, 128, kernel_size=3, stride=2, padding=1), \n",
    "            nn.BatchNorm2d(128),\n",
    "            nn.ReLU(),\n",
    "\n",
    "            nn.Conv2d(128, 256, kernel_size=3, stride=2, padding=1),  \n",
    "            nn.BatchNorm2d(256),\n",
    "            nn.ReLU(),\n",
    "\n",
    "            nn.Conv2d(256, 512, kernel_size=3, stride=2, padding=1),  \n",
    "            nn.BatchNorm2d(512),\n",
    "            nn.ReLU(),\n",
    "        )\n",
    "\n",
    "        self.flatten_dim =  512 * 2 * 2     # after 5 layers, get 2x2 spatial size\n",
    "        self.fc_mu = nn.Linear(self.flatten_dim, latent_dim)\n",
    "        self.fc_logvar = nn.Linear(self.flatten_dim, latent_dim)\n",
    "\n",
    "        # --- Decoder ---\n",
    "        self.fc_decode = nn.Linear(latent_dim, self.flatten_dim)\n",
    "\n",
    "        self.decoder = nn.Sequential(\n",
    "            nn.ConvTranspose2d(512, 256, 3, stride=2, padding=1, output_padding=1),  \n",
    "            nn.BatchNorm2d(256),\n",
    "            nn.ReLU(),\n",
    "\n",
    "            nn.ConvTranspose2d(256, 128, 3, stride=2, padding=1, output_padding=1),  \n",
    "            nn.BatchNorm2d(128),\n",
    "            nn.ReLU(),\n",
    "\n",
    "            nn.ConvTranspose2d(128, 64, 3, stride=2, padding=1, output_padding=1),   \n",
    "            nn.BatchNorm2d(64),\n",
    "            nn.ReLU(),\n",
    "\n",
    "            nn.ConvTranspose2d(64, 32, 3, stride=2, padding=1, output_padding=1),    \n",
    "            nn.BatchNorm2d(32),\n",
    "            nn.ReLU(),\n",
    "\n",
    "            nn.ConvTranspose2d(32, 3, 3, stride=2, padding=1, output_padding=1),     \n",
    "            nn.Sigmoid(),\n",
    "        )\n",
    "\n",
    "    def encode(self, x):\n",
    "        h = self.encoder(x)\n",
    "        h = h.view(x.size(0), -1)\n",
    "        z_mean = self.fc_mu(h)\n",
    "        z_log_var = self.fc_logvar(h)\n",
    "        return z_mean, z_log_var\n",
    "\n",
    "    def reparameterize(self, z_mean, z_log_var):\n",
    "        std = torch.exp(0.5 * z_log_var)\n",
    "        epsilon = torch.randn_like(std)\n",
    "        z = z_mean + std * epsilon\n",
    "        return z\n",
    "\n",
    "    def decode(self, z):\n",
    "        h = self.fc_decode(z)\n",
    "        h = h.view(-1, 512, 2, 2)\n",
    "        x = self.decoder(h)\n",
    "        return x\n",
    "\n",
    "    def forward(self, x):\n",
    "        z_mean, z_log_var = self.encode(x)\n",
    "        z = self.reparameterize(z_mean, z_log_var)\n",
    "        x_recon = self.decode(z)\n",
    "        return x_recon, z_mean, z_log_var"
   ]
  },
  {
   "cell_type": "code",
   "execution_count": 23,
   "id": "dda604be",
   "metadata": {},
   "outputs": [
    {
     "name": "stdout",
     "output_type": "stream",
     "text": [
      "----------------------------------------------------------------\n",
      "        Layer (type)               Output Shape         Param #\n",
      "================================================================\n",
      "            Conv2d-1           [-1, 32, 32, 32]             896\n",
      "       BatchNorm2d-2           [-1, 32, 32, 32]              64\n",
      "              ReLU-3           [-1, 32, 32, 32]               0\n",
      "            Conv2d-4           [-1, 64, 16, 16]          18,496\n",
      "       BatchNorm2d-5           [-1, 64, 16, 16]             128\n",
      "              ReLU-6           [-1, 64, 16, 16]               0\n",
      "            Conv2d-7            [-1, 128, 8, 8]          73,856\n",
      "       BatchNorm2d-8            [-1, 128, 8, 8]             256\n",
      "              ReLU-9            [-1, 128, 8, 8]               0\n",
      "           Conv2d-10            [-1, 256, 4, 4]         295,168\n",
      "      BatchNorm2d-11            [-1, 256, 4, 4]             512\n",
      "             ReLU-12            [-1, 256, 4, 4]               0\n",
      "           Conv2d-13            [-1, 512, 2, 2]       1,180,160\n",
      "      BatchNorm2d-14            [-1, 512, 2, 2]           1,024\n",
      "             ReLU-15            [-1, 512, 2, 2]               0\n",
      "           Linear-16                   [-1, 40]          81,960\n",
      "           Linear-17                   [-1, 40]          81,960\n",
      "           Linear-18                 [-1, 2048]          83,968\n",
      "  ConvTranspose2d-19            [-1, 256, 4, 4]       1,179,904\n",
      "      BatchNorm2d-20            [-1, 256, 4, 4]             512\n",
      "             ReLU-21            [-1, 256, 4, 4]               0\n",
      "  ConvTranspose2d-22            [-1, 128, 8, 8]         295,040\n",
      "      BatchNorm2d-23            [-1, 128, 8, 8]             256\n",
      "             ReLU-24            [-1, 128, 8, 8]               0\n",
      "  ConvTranspose2d-25           [-1, 64, 16, 16]          73,792\n",
      "      BatchNorm2d-26           [-1, 64, 16, 16]             128\n",
      "             ReLU-27           [-1, 64, 16, 16]               0\n",
      "  ConvTranspose2d-28           [-1, 32, 32, 32]          18,464\n",
      "      BatchNorm2d-29           [-1, 32, 32, 32]              64\n",
      "             ReLU-30           [-1, 32, 32, 32]               0\n",
      "  ConvTranspose2d-31            [-1, 3, 64, 64]             867\n",
      "          Sigmoid-32            [-1, 3, 64, 64]               0\n",
      "================================================================\n",
      "Total params: 3,387,475\n",
      "Trainable params: 3,387,475\n",
      "Non-trainable params: 0\n",
      "----------------------------------------------------------------\n",
      "Input size (MB): 0.05\n",
      "Forward/backward pass size (MB): 3.06\n",
      "Params size (MB): 12.92\n",
      "Estimated Total Size (MB): 16.03\n",
      "----------------------------------------------------------------\n"
     ]
    }
   ],
   "source": [
    "model = VAE(latent_dim=LATENT_DIM).to(device)\n",
    "summary(model, input_size=(3, 64, 64))"
   ]
  },
  {
   "cell_type": "code",
   "execution_count": 24,
   "id": "8dc432ef",
   "metadata": {},
   "outputs": [],
   "source": [
    "optimizer = torch.optim.Adam(model.parameters(), lr=LR_RATE)"
   ]
  },
  {
   "cell_type": "code",
   "execution_count": 25,
   "id": "372beebe",
   "metadata": {},
   "outputs": [
    {
     "name": "stdout",
     "output_type": "stream",
     "text": [
      "Resumed from epoch 10\n"
     ]
    }
   ],
   "source": [
    "# --- LOAD CHECKPOINT IF EXISTS ---\n",
    "start_epoch = 0\n",
    "if os.path.isfile(checkpoint_path):\n",
    "    checkpoint = torch.load(checkpoint_path)\n",
    "    model.load_state_dict(checkpoint['model_state_dict'])\n",
    "    optimizer.load_state_dict(checkpoint['optimizer_state_dict'])\n",
    "    start_epoch = checkpoint['epoch']\n",
    "    print(f\"Resumed from epoch {start_epoch}\")"
   ]
  },
  {
   "cell_type": "code",
   "execution_count": 26,
   "id": "a570b19f",
   "metadata": {},
   "outputs": [],
   "source": [
    "def vae_loss(reconstructed_x, x, z_mean, z_log_var):\n",
    "    # Reconstruction loss \n",
    "    recon_loss = F.mse_loss(reconstructed_x, x, reduction='mean')\n",
    "\n",
    "    # KL divergence\n",
    "    kl_div = -0.5 * torch.sum(1 + z_log_var - z_mean.pow(2) - z_log_var.exp())\n",
    "\n",
    "    # Total loss\n",
    "    return recon_loss + BETA*kl_div, recon_loss, kl_div"
   ]
  },
  {
   "cell_type": "code",
   "execution_count": 27,
   "id": "173fefe2",
   "metadata": {},
   "outputs": [],
   "source": [
    "# --- TRAINING LOOP ---\n",
    "for epoch in range(start_epoch, NUM_EPOCHS):\n",
    "    for i, (x, _) in enumerate(data_loader):\n",
    "        x = x.to(device)  # keep (B, 3, 64, 64)\n",
    "\n",
    "        x_reconst, z_mean, z_log_var = model(x)\n",
    "        loss, recon_loss, kl_div = vae_loss(x_reconst, x, z_mean, z_log_var)\n",
    "\n",
    "        optimizer.zero_grad()\n",
    "        loss.backward()\n",
    "        optimizer.step()\n",
    "\n",
    "        if (i + 1) % 10 == 0:\n",
    "            print(f\"Epoch[{epoch + 1}/{NUM_EPOCHS}], Step [{i + 1}/{len(data_loader)}], \"\n",
    "                  f\"Recon Loss: {recon_loss.item():.4f}, KL Div: {kl_div.item():.4f}\")\n",
    "\n",
    "    with torch.no_grad():\n",
    "        z = torch.randn(BATCH_SIZE, LATENT_DIM).to(device)\n",
    "        out = model.decode(z)  # decode random z\n",
    "        save_image(out, os.path.join(sample_dir, f'sampled-{epoch + 1}.png'))\n",
    "\n",
    "        out, _, _ = model(x)\n",
    "        x_concat = torch.cat([x, out], dim=3)  # concat original + recon\n",
    "        save_image(x_concat, os.path.join(sample_dir, f'reconst-{epoch + 1}.png'))\n",
    "\n",
    "    # --- SAVE CHECKPOINT ---\n",
    "    torch.save({\n",
    "        'epoch': epoch + 1,\n",
    "        'model_state_dict': model.state_dict(),\n",
    "        'optimizer_state_dict': optimizer.state_dict(),\n",
    "    }, checkpoint_path)\n",
    "    print(f\"Checkpoint saved at epoch {epoch + 1}\")"
   ]
  },
  {
   "cell_type": "code",
   "execution_count": 28,
   "id": "e39418bf",
   "metadata": {},
   "outputs": [],
   "source": [
    "import matplotlib.pyplot as plt\n",
    "from datetime import datetime\n",
    "\n",
    "def generate_random_samples(model, latent_dim, device, num_samples=16, output_prefix='random_sample', show_plot=True):\n",
    "    # Generate timestamp\n",
    "    timestamp = datetime.now().strftime('%Y%m%d_%H%M%S')\n",
    "    output_file = f'{output_prefix}_{timestamp}.png'\n",
    "\n",
    "    # Generate random latent vectors and decode\n",
    "    model.eval()\n",
    "    z = torch.randn(num_samples, latent_dim).to(device)\n",
    "    with torch.no_grad():\n",
    "        generated = model.decode(z)\n",
    "    \n",
    "    # Save image grid\n",
    "    save_image(generated, output_file, nrow=4)\n",
    "    print(f\"Saved random samples to {output_file}\")\n",
    "\n",
    "    # Display\n",
    "    if show_plot:\n",
    "        imgs = generated.cpu().numpy().transpose(0, 2, 3, 1)\n",
    "        plt.figure(figsize=(8, 8))\n",
    "        for i in range(num_samples):\n",
    "            plt.subplot(4, 4, i + 1)\n",
    "            plt.imshow(imgs[i])\n",
    "            plt.axis('off')\n",
    "        plt.tight_layout()\n",
    "        plt.show()\n"
   ]
  },
  {
   "cell_type": "code",
   "execution_count": 29,
   "id": "44e6fe1f",
   "metadata": {},
   "outputs": [
    {
     "name": "stdout",
     "output_type": "stream",
     "text": [
      "Saved random samples to random_sample_20250507_223240.png\n"
     ]
    },
    {
     "data": {
      "image/png": "[encoded data removed]",
      "text/plain": [
       "<Figure size 800x800 with 1 Axes>"
      ]
     },
     "metadata": {},
     "output_type": "display_data"
    }
   ],
   "source": [
    "generate_random_samples(model, LATENT_DIM, device, num_samples=1)"
   ]
  },
  {
   "cell_type": "code",
   "execution_count": 30,
   "id": "b98c9c2f",
   "metadata": {},
   "outputs": [],
   "source": [
    "timestamp = datetime.now().strftime('%Y%m%d_%H%M%S')\n",
    "saved_weights_path = 'saved_weights_VAE/vae_weights' + timestamp+'.pth'\n",
    "torch.save(model.state_dict(), saved_weights_path)"
   ]
  },
  {
   "cell_type": "code",
   "execution_count": null,
   "id": "6add93ed",
   "metadata": {},
   "outputs": [],
   "source": []
  }
 ],
 "metadata": {
  "kernelspec": {
   "display_name": "venv",
   "language": "python",
   "name": "python3"
  },
  "language_info": {
   "codemirror_mode": {
    "name": "ipython",
    "version": 3
   },
   "file_extension": ".py",
   "mimetype": "text/x-python",
   "name": "python",
   "nbconvert_exporter": "python",
   "pygments_lexer": "ipython3",
   "version": "3.12.3"
  }
 },
 "nbformat": 4,
 "nbformat_minor": 5
}
